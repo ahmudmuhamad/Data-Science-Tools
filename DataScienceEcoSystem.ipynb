{
 "cells": [
  {
   "cell_type": "markdown",
   "id": "b43cb82c",
   "metadata": {},
   "source": [
    "<h1>Data Science Tools and Ecosystem"
   ]
  },
  {
   "cell_type": "code",
   "execution_count": null,
   "id": "3edb24cb",
   "metadata": {},
   "outputs": [],
   "source": [
    "##Exercise 3 - create markedown cell for an introduction"
   ]
  },
  {
   "cell_type": "markdown",
   "id": "cd59b6e0",
   "metadata": {},
   "source": [
    "Data Science Tools and ecosystem are discussed in this notebook"
   ]
  },
  {
   "cell_type": "code",
   "execution_count": 8,
   "id": "849ee7e2",
   "metadata": {},
   "outputs": [],
   "source": [
    "##Exercise 10 - Insert a markdown cell to list objectives"
   ]
  },
  {
   "cell_type": "markdown",
   "id": "e5390220",
   "metadata": {},
   "source": [
    "<b>Objectives of this course:</b>\n",
    " <ul>\n",
    "        <li>Some popular languages used in data science like: Python, R and Scala</li>\n",
    "        <li>Common libraries used in data science like: Numpy, pandas and scipy</li>\n",
    "        <li>Environment tools like: Jupyter notebook, RStudio and VSCode</li>\n",
    "        <li>Introduction to github</li>\n",
    "    </ul>\n"
   ]
  },
  {
   "cell_type": "code",
   "execution_count": null,
   "id": "232e36f6",
   "metadata": {},
   "outputs": [],
   "source": [
    "##Exercise 4 - Create a markdown cell to list data science languages"
   ]
  },
  {
   "cell_type": "markdown",
   "id": "5652a8a0",
   "metadata": {},
   "source": [
    "Some popular languages of data science are:\n",
    "\n",
    "Python: Python is the most widely used programming language in data science.\n",
    "\n",
    "R: R is a specialized language for statistical analysis and data visualization.\n",
    "\n",
    "SQL (Structured Query Language): SQL is essential for working with relational databases."
   ]
  },
  {
   "cell_type": "code",
   "execution_count": 1,
   "id": "43cafdc8",
   "metadata": {},
   "outputs": [],
   "source": [
    "##Exercise 5 - Create a markdown cell to list data science libraries"
   ]
  },
  {
   "cell_type": "markdown",
   "id": "d2c9e74d",
   "metadata": {},
   "source": [
    "Some of libraries used in data science are:\n",
    "\n",
    "Pandas\n",
    "\n",
    "Numpy\n",
    "\n",
    "Scipy\n",
    "\n",
    "matplotlib"
   ]
  },
  {
   "cell_type": "markdown",
   "id": "4106c056",
   "metadata": {},
   "source": []
  },
  {
   "cell_type": "markdown",
   "id": "af2862ea",
   "metadata": {},
   "source": [
    "<h3>Exercise 6 - create a markdown cell with a table of data science tools"
   ]
  },
  {
   "cell_type": "markdown",
   "id": "cf896e9e",
   "metadata": {},
   "source": [
    "|Data Science Tools|\n",
    "|------------------|\n",
    "|Jupyter Notebook|\n",
    "|RStudio|\n",
    "|Visual Studio Code|"
   ]
  },
  {
   "cell_type": "markdown",
   "id": "9fba66af",
   "metadata": {},
   "source": [
    "<h2> Exercise 7 - Create a markdown cell with arthmitic expression sample </h2>\n",
    "<h3>Some of the arthmitic expressions are:</h3>\n",
    "    \n",
    "    addition: x+y\n",
    "    \n",
    "    subtraction: x-y\n",
    "    \n",
    "    multiplaction: x*y"
   ]
  },
  {
   "cell_type": "code",
   "execution_count": 6,
   "id": "d5b9ef2b",
   "metadata": {},
   "outputs": [
    {
     "name": "stdout",
     "output_type": "stream",
     "text": [
      "17\n"
     ]
    }
   ],
   "source": [
    "##Create a code cell to multiply and add numbers\n",
    "##This is a simple arthmitic expression to multiply then add integers\n",
    "\n",
    "print((3*4)+5)"
   ]
  },
  {
   "cell_type": "code",
   "execution_count": 7,
   "id": "f5abba65",
   "metadata": {},
   "outputs": [
    {
     "name": "stdout",
     "output_type": "stream",
     "text": [
      "3.3333333333333335\n"
     ]
    }
   ],
   "source": [
    "##Exercise 9 - Create a code cell to convert minuts to hours\n",
    "##This code will convert 200 mins to hours\n",
    "minutes = 200\n",
    "MinutesToHour = 200/60\n",
    "print(MinutesToHour)"
   ]
  },
  {
   "cell_type": "code",
   "execution_count": null,
   "id": "8784c6a5",
   "metadata": {},
   "outputs": [],
   "source": [
    "##Exercise 11 - Create a markdown cell to indicate the Author's name"
   ]
  },
  {
   "cell_type": "markdown",
   "id": "aa868ffb",
   "metadata": {},
   "source": [
    "<h2>Author's Name:</h2>\n",
    "\n",
    "<b>Ahmed Muhammad Ahmed\n",
    "\n"
   ]
  },
  {
   "cell_type": "code",
   "execution_count": null,
   "id": "c07faa4d",
   "metadata": {},
   "outputs": [],
   "source": []
  }
 ],
 "metadata": {
  "kernelspec": {
   "display_name": "Python 3 (ipykernel)",
   "language": "python",
   "name": "python3"
  },
  "language_info": {
   "codemirror_mode": {
    "name": "ipython",
    "version": 3
   },
   "file_extension": ".py",
   "mimetype": "text/x-python",
   "name": "python",
   "nbconvert_exporter": "python",
   "pygments_lexer": "ipython3",
   "version": "3.9.13"
  }
 },
 "nbformat": 4,
 "nbformat_minor": 5
}
